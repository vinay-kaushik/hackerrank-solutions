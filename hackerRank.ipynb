{
  "nbformat": 4,
  "nbformat_minor": 0,
  "metadata": {
    "colab": {
      "name": "hackerRank.ipynb",
      "provenance": [],
      "authorship_tag": "ABX9TyP6Y0nfVoJ5AO8108ODOXVO",
      "include_colab_link": true
    },
    "kernelspec": {
      "name": "python3",
      "display_name": "Python 3"
    }
  },
  "cells": [
    {
      "cell_type": "markdown",
      "metadata": {
        "id": "view-in-github",
        "colab_type": "text"
      },
      "source": [
        "<a href=\"https://colab.research.google.com/github/vinay-kaushik/hackerrank-solutions/blob/master/hackerRank.ipynb\" target=\"_parent\"><img src=\"https://colab.research.google.com/assets/colab-badge.svg\" alt=\"Open In Colab\"/></a>"
      ]
    },
    {
      "cell_type": "code",
      "metadata": {
        "id": "wBGrAQYmvWgG",
        "colab_type": "code",
        "colab": {}
      },
      "source": [
        ""
      ],
      "execution_count": 0,
      "outputs": []
    },
    {
      "cell_type": "markdown",
      "metadata": {
        "id": "QIL5QfD_vZkm",
        "colab_type": "text"
      },
      "source": [
        "## Hackerrank string manipulation problem\n",
        "https://www.hackerrank.com/challenges/alternating-characters/problem?h_l=interview&playlist_slugs%5B%5D=interview-preparation-kit&playlist_slugs%5B%5D=strings"
      ]
    },
    {
      "cell_type": "code",
      "metadata": {
        "id": "TJh50X4bvhi-",
        "colab_type": "code",
        "outputId": "952b7e0b-0345-472e-ab34-41ac268d2367",
        "colab": {
          "base_uri": "https://localhost:8080/",
          "height": 119
        }
      },
      "source": [
        "\n",
        "s=input()\n",
        "a=list(s)\n",
        "print(a)\n",
        "count=0\n",
        "for i in range(len(a)-1):\n",
        "  # print(a[i])\n",
        "  if a[i+1]==a[i]:\n",
        "    print(\"a[\",i,\"]=\" ,a[i])\n",
        "    count+=1\n",
        "print(count)"
      ],
      "execution_count": 0,
      "outputs": [
        {
          "output_type": "stream",
          "text": [
            "aaaa\n",
            "['a', 'a', 'a', 'a']\n",
            "a[ 0 ]= a\n",
            "a[ 1 ]= a\n",
            "a[ 2 ]= a\n",
            "3\n"
          ],
          "name": "stdout"
        }
      ]
    },
    {
      "cell_type": "markdown",
      "metadata": {
        "id": "v3Sh8E1Py9Hr",
        "colab_type": "text"
      },
      "source": [
        "## Sherlock and the valid string\n",
        "https://www.hackerrank.com/challenges/sherlock-and-valid-string/problem?h_l=interview&playlist_slugs%5B%5D=interview-preparation-kit&playlist_slugs%5B%5D=strings\n"
      ]
    },
    {
      "cell_type": "code",
      "metadata": {
        "id": "Nztp43rGvoj7",
        "colab_type": "code",
        "outputId": "4d8358b4-ff41-4a10-d2cf-823dcefa0044",
        "colab": {
          "base_uri": "https://localhost:8080/",
          "height": 51
        }
      },
      "source": [
        "x=int(input())\n",
        "\n",
        "if x<0:\n",
        "  x*=-1\n",
        "  if x == int(str(x)[::-1]):\n",
        "    print(\"True\") \n",
        "  else:\n",
        "    print(\"False\") \n",
        "else:\n",
        "  if x== int(str(x)[::-1]):\n",
        "    print(\"True\") \n",
        "  else:\n",
        "    print(\"False\") \n",
        "\n"
      ],
      "execution_count": 0,
      "outputs": [
        {
          "output_type": "stream",
          "text": [
            "-121\n",
            "True\n"
          ],
          "name": "stdout"
        }
      ]
    },
    {
      "cell_type": "markdown",
      "metadata": {
        "id": "wKF3Lrv0qKZI",
        "colab_type": "text"
      },
      "source": [
        "#Nested List problem\n",
        "\n",
        "https://www.hackerrank.com/challenges/nested-list/problem"
      ]
    },
    {
      "cell_type": "code",
      "metadata": {
        "id": "lgFCz3jBqJvT",
        "colab_type": "code",
        "colab": {}
      },
      "source": [
        "\n",
        "\n"
      ],
      "execution_count": 0,
      "outputs": []
    },
    {
      "cell_type": "code",
      "metadata": {
        "id": "PdMUW9RfsEk3",
        "colab_type": "code",
        "outputId": "02242fe2-9309-4027-a5f3-0a9690f1ea74",
        "colab": {
          "base_uri": "https://localhost:8080/",
          "height": 51
        }
      },
      "source": [
        "print(name,score)\n",
        "\n",
        "a=[name,score]\n",
        "print(a)"
      ],
      "execution_count": 0,
      "outputs": [
        {
          "output_type": "stream",
          "text": [
            "['ha', 'po'] ['21', '23']\n",
            "[['ha', 'po'], ['21', '23']]\n"
          ],
          "name": "stdout"
        }
      ]
    }
  ]
}