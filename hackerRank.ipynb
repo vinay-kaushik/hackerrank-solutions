{
  "nbformat": 4,
  "nbformat_minor": 0,
  "metadata": {
    "colab": {
      "name": "hackerRank.ipynb",
      "provenance": [],
      "collapsed_sections": [],
      "authorship_tag": "ABX9TyNHxCqeH2q4hz0B5ZB5OVBA",
      "include_colab_link": true
    },
    "kernelspec": {
      "name": "python3",
      "display_name": "Python 3"
    }
  },
  "cells": [
    {
      "cell_type": "markdown",
      "metadata": {
        "id": "view-in-github",
        "colab_type": "text"
      },
      "source": [
        "<a href=\"https://colab.research.google.com/github/vinay-kaushik/hackerrank-solutions/blob/master/hackerRank.ipynb\" target=\"_parent\"><img src=\"https://colab.research.google.com/assets/colab-badge.svg\" alt=\"Open In Colab\"/></a>"
      ]
    },
    {
      "cell_type": "code",
      "metadata": {
        "id": "wBGrAQYmvWgG",
        "colab_type": "code",
        "colab": {}
      },
      "source": [
        ""
      ],
      "execution_count": null,
      "outputs": []
    },
    {
      "cell_type": "markdown",
      "metadata": {
        "id": "QIL5QfD_vZkm",
        "colab_type": "text"
      },
      "source": [
        "## Hackerrank string manipulation problem\n",
        "https://www.hackerrank.com/challenges/alternating-characters/problem?h_l=interview&playlist_slugs%5B%5D=interview-preparation-kit&playlist_slugs%5B%5D=strings"
      ]
    },
    {
      "cell_type": "code",
      "metadata": {
        "id": "TJh50X4bvhi-",
        "colab_type": "code",
        "colab": {
          "base_uri": "https://localhost:8080/",
          "height": 119
        },
        "outputId": "952b7e0b-0345-472e-ab34-41ac268d2367"
      },
      "source": [
        "\n",
        "s=input()\n",
        "a=list(s)\n",
        "print(a)\n",
        "count=0\n",
        "for i in range(len(a)-1):\n",
        "  # print(a[i])\n",
        "  if a[i+1]==a[i]:\n",
        "    print(\"a[\",i,\"]=\" ,a[i])\n",
        "    count+=1\n",
        "print(count)"
      ],
      "execution_count": null,
      "outputs": [
        {
          "output_type": "stream",
          "text": [
            "aaaa\n",
            "['a', 'a', 'a', 'a']\n",
            "a[ 0 ]= a\n",
            "a[ 1 ]= a\n",
            "a[ 2 ]= a\n",
            "3\n"
          ],
          "name": "stdout"
        }
      ]
    },
    {
      "cell_type": "markdown",
      "metadata": {
        "id": "v3Sh8E1Py9Hr",
        "colab_type": "text"
      },
      "source": [
        "## Sherlock and the valid string\n",
        "https://www.hackerrank.com/challenges/sherlock-and-valid-string/problem?h_l=interview&playlist_slugs%5B%5D=interview-preparation-kit&playlist_slugs%5B%5D=strings\n"
      ]
    },
    {
      "cell_type": "code",
      "metadata": {
        "id": "Nztp43rGvoj7",
        "colab_type": "code",
        "colab": {
          "base_uri": "https://localhost:8080/",
          "height": 51
        },
        "outputId": "4d8358b4-ff41-4a10-d2cf-823dcefa0044"
      },
      "source": [
        "x=int(input())\n",
        "\n",
        "if x<0:\n",
        "  x*=-1\n",
        "  if x == int(str(x)[::-1]):\n",
        "    print(\"True\") \n",
        "  else:\n",
        "    print(\"False\") \n",
        "else:\n",
        "  if x== int(str(x)[::-1]):\n",
        "    print(\"True\") \n",
        "  else:\n",
        "    print(\"False\") \n",
        "\n"
      ],
      "execution_count": null,
      "outputs": [
        {
          "output_type": "stream",
          "text": [
            "-121\n",
            "True\n"
          ],
          "name": "stdout"
        }
      ]
    },
    {
      "cell_type": "markdown",
      "metadata": {
        "id": "FqE5mmd7BhG8",
        "colab_type": "text"
      },
      "source": [
        "##Time Conversion problem\n",
        "https://www.hackerrank.com/challenges/time-conversion/problem\n"
      ]
    },
    {
      "cell_type": "code",
      "metadata": {
        "id": "PdMUW9RfsEk3",
        "colab_type": "code",
        "colab": {
          "base_uri": "https://localhost:8080/",
          "height": 51
        },
        "outputId": "5a1ade78-548e-49a0-9295-0b2942917c4d"
      },
      "source": [
        "#!/bin/python3\n",
        "\n",
        "import os\n",
        "import sys\n",
        "\n",
        "#\n",
        "# Complete the timeConversion function below.\n",
        "#\n",
        "def timeConversion(s):\n",
        "    #\n",
        "    # Write your code here.\n",
        "    #\n",
        "    hour=s[0:2]\n",
        "    am_pm=s[8:10]\n",
        "    if am_pm=='AM':\n",
        "        if hour=='12':\n",
        "            print('00'+s[2:8])\n",
        "        else:\n",
        "\n",
        "            print(s[0:8])\n",
        "    else:\n",
        "        if hour =='12':\n",
        "            print(str(hour)+s[2:8])\n",
        "        else:\n",
        "            hour=12+int(hour)\n",
        "            print(str(hour)+s[2:8])\n",
        "        \n",
        "\n",
        "\n",
        "if __name__ == '__main__':\n",
        "    \n",
        "\n",
        "    s = input()\n",
        "\n",
        "    result = timeConversion(s)\n",
        "\n",
        "    \n"
      ],
      "execution_count": null,
      "outputs": [
        {
          "output_type": "stream",
          "text": [
            "12:05:45AM\n",
            "00:05:45\n"
          ],
          "name": "stdout"
        }
      ]
    },
    {
      "cell_type": "markdown",
      "metadata": {
        "id": "e6JBjqmADAOf",
        "colab_type": "text"
      },
      "source": [
        "## Birthday Candles\n",
        "\n",
        "https://www.hackerrank.com/challenges/birthday-cake-candles/problem"
      ]
    },
    {
      "cell_type": "code",
      "metadata": {
        "id": "nvclOo2Y6kH0",
        "colab_type": "code",
        "colab": {
          "base_uri": "https://localhost:8080/",
          "height": 68
        },
        "outputId": "81ffd3a2-d947-453c-de21-ce7dee0e7da9"
      },
      "source": [
        "# Complete the birthdayCakeCandles function below.\n",
        "def birthdayCakeCandles(ar):\n",
        "    print(ar.count(max(ar)))\n",
        "if __name__ == '__main__':\n",
        "    \n",
        "    ar_count = int(input())\n",
        "\n",
        "    ar = list(map(int, input().rstrip().split()))\n",
        "\n",
        "    result = birthdayCakeCandles(ar)\n"
      ],
      "execution_count": null,
      "outputs": [
        {
          "output_type": "stream",
          "text": [
            "3\n",
            "2 1 2\n",
            "2\n"
          ],
          "name": "stdout"
        }
      ]
    },
    {
      "cell_type": "markdown",
      "metadata": {
        "id": "I44EYrxA0La9",
        "colab_type": "text"
      },
      "source": [
        "## The hurdle race\n",
        "https://www.hackerrank.com/challenges/the-hurdle-race/problem"
      ]
    },
    {
      "cell_type": "code",
      "metadata": {
        "id": "nlB6bnwy0QsZ",
        "colab_type": "code",
        "colab": {
          "base_uri": "https://localhost:8080/",
          "height": 67
        },
        "outputId": "6b217df1-c906-425a-ffb2-fb43db8de854"
      },
      "source": [
        "#!/bin/python3\n",
        "\n",
        "import math\n",
        "import os\n",
        "import random\n",
        "import re\n",
        "import sys\n",
        "\n",
        "# Complete the hurdleRace function below.\n",
        "def hurdleRace(k, height):\n",
        "    if k>max(height):\n",
        "        print(0)\n",
        "    else:\n",
        "        print(max(height)-k)\n",
        "if __name__ == '__main__':\n",
        "    # fptr = open(os.environ['OUTPUT_PATH'], 'w')\n",
        "\n",
        "    nk = input().split()\n",
        "\n",
        "    n = int(nk[0])\n",
        "\n",
        "    k = int(nk[1])\n",
        "\n",
        "    height = list(map(int, input().rstrip().split()))\n",
        "\n",
        "    result = hurdleRace(k, height)\n",
        "\n",
        "    "
      ],
      "execution_count": null,
      "outputs": [
        {
          "output_type": "stream",
          "text": [
            "5 4\n",
            "1 6 3 5 2\n",
            "2\n"
          ],
          "name": "stdout"
        }
      ]
    },
    {
      "cell_type": "markdown",
      "metadata": {
        "id": "0QZfOsg-3Vul",
        "colab_type": "text"
      },
      "source": [
        "#Reverse Game\n",
        "\n",
        "https://www.hackerrank.com/challenges/reverse-game/problem?h_r=profile"
      ]
    },
    {
      "cell_type": "code",
      "metadata": {
        "id": "O5zH0AT93b4w",
        "colab_type": "code",
        "colab": {
          "base_uri": "https://localhost:8080/",
          "height": 101
        },
        "outputId": "e8f9f638-0e34-4d2d-ef1a-b9cc3d04f371"
      },
      "source": [
        "def findIndex(n,k):\n",
        "    x=[]\n",
        "    y=0\n",
        "    for i in range(n):\n",
        "        if i%2==0:\n",
        "            x.append(n-1)\n",
        "            n-=1\n",
        "        else:\n",
        "            x.append(y)\n",
        "            y+=1\n",
        "    print(x.index(k))\n",
        "\n",
        "\n",
        "if __name__ == '__main__':\n",
        "    t = int(input())\n",
        "\n",
        "\n",
        "\n",
        "    for i in range(t):\n",
        "        nk = input().split()\n",
        "\n",
        "        n = int(nk[0])\n",
        "\n",
        "        k = int(nk[1])\n",
        "        findIndex(n,k)\n"
      ],
      "execution_count": 2,
      "outputs": [
        {
          "output_type": "stream",
          "text": [
            "2\n",
            "3 1\n",
            "2\n",
            "5 2\n",
            "4\n"
          ],
          "name": "stdout"
        }
      ]
    },
    {
      "cell_type": "markdown",
      "metadata": {
        "id": "nw_jc-Q34vZq",
        "colab_type": "text"
      },
      "source": [
        "# Count Triplets\n",
        "\n",
        "https://www.hackerrank.com/challenges/count-triplets-1/problem?h_r=profile"
      ]
    },
    {
      "cell_type": "code",
      "metadata": {
        "id": "SytI7MrI5C34",
        "colab_type": "code",
        "colab": {
          "base_uri": "https://localhost:8080/",
          "height": 67
        },
        "outputId": "26344901-7a45-4c1d-eae9-0f560afc62e5"
      },
      "source": [
        "#!/bin/python3\n",
        "\n",
        "import math\n",
        "import os\n",
        "import random\n",
        "import re\n",
        "import sys\n",
        "\n",
        "from itertools import combinations\n",
        "\n",
        "\n",
        "# Complete the countTriplets function below.\n",
        "def nthPower(num, n):\n",
        "    count = 0\n",
        "    while (num > 1):\n",
        "        if num % n == 0:\n",
        "            num = num / n\n",
        "            count += 1\n",
        "        else:\n",
        "            count = 0\n",
        "            break\n",
        "    return count\n",
        "\n",
        "\n",
        "\n",
        "def countTriplets(arr, r):\n",
        "    x = []\n",
        "    for i in range(len(arr)):\n",
        "        x.append(nthPower(arr[i], r))\n",
        "    # print(x)\n",
        "\n",
        "    # for i, j in enumerate(x):\n",
        "    #     # print(i, j)\n",
        "\n",
        "    # print(\"===============\")\n",
        "    count = 0\n",
        "    # if len(x) < 3:\n",
        "    #     return\n",
        "    # for j in range(1, len(x) - 1):\n",
        "    #     i = j - 1\n",
        "    #     k = j + 1\n",
        "    #     while i >= 0 and k < len(x):\n",
        "    #         if x[j]-x[i]==1 and x[k]-x[j]==1:\n",
        "    #             print(i, j, k)\n",
        "    #             count += 1\n",
        "    #             k = k + 1\n",
        "    #             # i = i - 1\n",
        "    #         elif x[i] + x[k] < 2 * x[j]:\n",
        "    #             # else:\n",
        "    #             k = k + 1\n",
        "    #         else:\n",
        "    #             i = i - 1\n",
        "    for i in range(0,len(arr)-2):\n",
        "        for j in range(i+1,len(arr)-1):\n",
        "            for k in range(j+1,len(arr)):\n",
        "                if x[j]-x[i]==1 and x[k]-x[j]==1:\n",
        "                    count+=1\n",
        "\n",
        "    # print(x)\n",
        "    return count\n",
        "\n",
        "\n",
        "if __name__ == '__main__':\n",
        "\n",
        "\n",
        "    nr = input().rstrip().split()\n",
        "\n",
        "    n = int(nr[0])\n",
        "\n",
        "    r = int(nr[1])\n",
        "\n",
        "    arr = list(map(int, input().rstrip().split()))\n",
        "\n",
        "    ans = countTriplets(arr, r)\n",
        "    print(ans)\n",
        "\n",
        "\n"
      ],
      "execution_count": 3,
      "outputs": [
        {
          "output_type": "stream",
          "text": [
            "4 2\n",
            "1 2 2 4\n",
            "2\n"
          ],
          "name": "stdout"
        }
      ]
    },
    {
      "cell_type": "code",
      "metadata": {
        "id": "U7zrluce5J05",
        "colab_type": "code",
        "colab": {}
      },
      "source": [
        ""
      ],
      "execution_count": null,
      "outputs": []
    }
  ]
}